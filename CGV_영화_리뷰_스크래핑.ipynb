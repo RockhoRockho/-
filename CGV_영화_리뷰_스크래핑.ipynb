{
  "nbformat": 4,
  "nbformat_minor": 0,
  "metadata": {
    "colab": {
      "name": "CGV 영화 리뷰 스크래핑.ipynb",
      "private_outputs": true,
      "provenance": [],
      "authorship_tag": "ABX9TyNP9kKxH6XOW6j8TkhQJ9WO",
      "include_colab_link": true
    },
    "kernelspec": {
      "name": "python3",
      "display_name": "Python 3"
    },
    "language_info": {
      "name": "python"
    }
  },
  "cells": [
    {
      "cell_type": "markdown",
      "metadata": {
        "id": "view-in-github",
        "colab_type": "text"
      },
      "source": [
        "<a href=\"https://colab.research.google.com/github/RockhoRockho/Scraping-Crawling/blob/main/CGV_%EC%98%81%ED%99%94_%EB%A6%AC%EB%B7%B0_%EC%8A%A4%ED%81%AC%EB%9E%98%ED%95%91.ipynb\" target=\"_parent\"><img src=\"https://colab.research.google.com/assets/colab-badge.svg\" alt=\"Open In Colab\"/></a>"
      ]
    },
    {
      "cell_type": "markdown",
      "metadata": {
        "id": "dwEzGECMXUJy"
      },
      "source": [
        "# CGV 영화 리뷰 스크래핑"
      ]
    },
    {
      "cell_type": "markdown",
      "metadata": {
        "id": "ztpRRzkFlC8L"
      },
      "source": [
        "## Selenium 및 웹 드라이버 설치"
      ]
    },
    {
      "cell_type": "code",
      "metadata": {
        "id": "M1QerYv4lFgJ"
      },
      "source": [
        "!pip install Selenium\n",
        "!apt-get update\n",
        "!apt install chromium-chromedriver\n",
        "!cp /usr/lib/chromium-browser/chromedriver /usr/bin\n",
        "\n",
        "import sys\n",
        "sys.path.insert(0, '/usr/lib/chromium-browser/chromedriver')\n",
        "\n",
        "from selenium import webdriver\n",
        "chrome_options = webdriver.ChromeOptions()\n",
        "chrome_options.add_argument('--headless') # 눈에 띄게 보이지 않아도 띄우게끔\n",
        "chrome_options.add_argument('--no-sandbox')\n",
        "chrome_options.add_argument('--disable-dev-shm-usage')"
      ],
      "execution_count": null,
      "outputs": []
    },
    {
      "cell_type": "code",
      "metadata": {
        "id": "sjZhB2cbl36j"
      },
      "source": [
        "import time\n",
        "import pandas as pd\n",
        "from selenium.common.exceptions import NoSuchElementException\n",
        "\n",
        "def get_movie_reviews(url, page_num=10):\n",
        "\n",
        "    wd = webdriver.Chrome('chromedriver', options=chrome_options)\n",
        "    wd.get(url)\n",
        "\n",
        "    writer_list = []\n",
        "    review_list = []\n",
        "    date_list =[]\n",
        "\n",
        "    for page_no in range(1, page_num+1):\n",
        "        try:\n",
        "            page_ul = wd.find_element_by_id('paging_point')\n",
        "            page_a = page_ul.find_element_by_link_text(str(page_no))\n",
        "            page_a.click()\n",
        "            time.sleep(1)\n",
        "\n",
        "            writers = wd.find_elements_by_class_name('writer-name')\n",
        "            writer_list += [writer.text for writer in writers]\n",
        "            reviews = wd.find_elements_by_class_name('box-comment')\n",
        "            review_list += [review.text for review in reviews]\n",
        "            dates = wd.find_elements_by_class_name('day')\n",
        "            date_list += [date.text for date in dates]\n",
        "\n",
        "            if page_no % 10 == 0:\n",
        "                next_button = page_ul.find_element_by_class_name('btn-paging next')\n",
        "                next_button.click()\n",
        "                time.sleep(1)\n",
        "                \n",
        "        except NoSuchElementException:\n",
        "            break\n",
        "\n",
        "\n",
        "    movie_review_df = pd.DataFrame({'Writer': writer_list,\n",
        "                                    'Review': review_list,\n",
        "                                    'Date': date_list})\n",
        "    \n",
        "    return movie_review_df"
      ],
      "execution_count": null,
      "outputs": []
    },
    {
      "cell_type": "code",
      "metadata": {
        "id": "vIbbib5ooSdL"
      },
      "source": [
        "url = 'http://www.cgv.co.kr/movies/detail-view/?midx=84690'\n",
        "movie_review_df = get_movie_reviews(url, 12)\n",
        "movie_review_df"
      ],
      "execution_count": null,
      "outputs": []
    },
    {
      "cell_type": "markdown",
      "metadata": {
        "id": "EFP3r0KJoYP4"
      },
      "source": [
        "## CGV 상영작 스크래핑"
      ]
    },
    {
      "cell_type": "code",
      "metadata": {
        "id": "8r4Gj32ntvE4"
      },
      "source": [
        "url = 'http://www.cgv.co.kr/movies/'\n",
        "\n",
        "wd = webdriver.Chrome('chromedriver', options=chrome_options)\n",
        "wd.get(url)\n",
        "\n",
        "movie_chart = wd.find_element_by_class_name('sect-movie-chart')\n",
        "contents = movie_chart.find_elements_by_class_name('box-contents')\n",
        "for content in contents:\n",
        "    link = content.find_element_by_tag_name('a').get_attribute('href')\n",
        "    title = content.find_element_by_class_name('title').text\n",
        "    precent = content.find_element_by_class_name('percent').text\n",
        "    info = content.find_element_by_class_name('txt-info').text\n",
        "    print(title, precent, info, link)\n",
        "    print(get_movie_reviews(link, 2))"
      ],
      "execution_count": null,
      "outputs": []
    },
    {
      "cell_type": "code",
      "metadata": {
        "id": "kOGEC0aNvQ2Y"
      },
      "source": [
        ""
      ],
      "execution_count": null,
      "outputs": []
    }
  ]
}