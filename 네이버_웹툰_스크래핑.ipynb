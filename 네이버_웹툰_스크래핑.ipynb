{
  "nbformat": 4,
  "nbformat_minor": 0,
  "metadata": {
    "colab": {
      "name": "네이버 웹툰 스크래핑.ipynb",
      "private_outputs": true,
      "provenance": [],
      "authorship_tag": "ABX9TyPFHDLk4aZ38XLB467+ECG2",
      "include_colab_link": true
    },
    "kernelspec": {
      "name": "python3",
      "display_name": "Python 3"
    },
    "language_info": {
      "name": "python"
    }
  },
  "cells": [
    {
      "cell_type": "markdown",
      "metadata": {
        "id": "view-in-github",
        "colab_type": "text"
      },
      "source": [
        "<a href=\"https://colab.research.google.com/github/RockhoRockho/Scraping-Crawling/blob/main/%EB%84%A4%EC%9D%B4%EB%B2%84_%EC%9B%B9%ED%88%B0_%EC%8A%A4%ED%81%AC%EB%9E%98%ED%95%91.ipynb\" target=\"_parent\"><img src=\"https://colab.research.google.com/assets/colab-badge.svg\" alt=\"Open In Colab\"/></a>"
      ]
    },
    {
      "cell_type": "markdown",
      "metadata": {
        "id": "YomcO12faYnP"
      },
      "source": [
        "# 네이버 웹툰 스크래핑"
      ]
    },
    {
      "cell_type": "markdown",
      "metadata": {
        "id": "NG3yubctanYk"
      },
      "source": [
        "## Selenium 및 웹 드라이버 설치"
      ]
    },
    {
      "cell_type": "code",
      "metadata": {
        "id": "ZgDQpT6ba39K"
      },
      "source": [
        "!pip install Selenium\n",
        "!apt-get update\n",
        "!apt install chromium-chromedriver\n",
        "!cp /usr/lib/chromium-browser/chromedriver /usr/bin\n",
        "\n",
        "import sys\n",
        "sys.path.insert(0, '/usr/lib/chromium-browser/chromedriver')\n",
        "\n",
        "from selenium import webdriver\n",
        "chrome_options = webdriver.ChromeOptions()\n",
        "chrome_options.add_argument('--headless')\n",
        "chrome_options.add_argument('--no-sandbox')\n",
        "chrome_options.add_argument('--disable-dev-shm-usage')"
      ],
      "execution_count": null,
      "outputs": []
    },
    {
      "cell_type": "code",
      "metadata": {
        "id": "i_2iPRYSbbNa"
      },
      "source": [
        "wd = webdriver.Chrome('chromedriver', options=chrome_options)\n",
        "wd.get('https://comic.naver.com/index.nhn')"
      ],
      "execution_count": null,
      "outputs": []
    },
    {
      "cell_type": "code",
      "metadata": {
        "id": "7cncLrvlbyI0"
      },
      "source": [
        "for title in wd.find_elements_by_class_name('title'):\n",
        "    print(title.text)"
      ],
      "execution_count": null,
      "outputs": []
    },
    {
      "cell_type": "code",
      "metadata": {
        "id": "XdlB8MT3cKPp"
      },
      "source": [
        "import time\n",
        "\n",
        "genre_ul = wd.find_element_by_class_name('tab_gr')\n",
        "genre_list = genre_ul.find_elements_by_tag_name('a')\n",
        "\n",
        "for genre in genre_list:\n",
        "    genre.click()\n",
        "    time.sleep(1)\n",
        "    print(\"[\",genre.text,\"]\")\n",
        "\n",
        "    genre_rec_list = wd.find_elements_by_class_name('genreRecomInfo2')\n",
        "    for genre_rec in genre_rec_list:\n",
        "        title_class = genre_rec.find_element_by_class_name('title')\n",
        "        title = title_class.find_element_by_tag_name('a').text\n",
        "        user = genre_rec.find_element_by_class_name('user').text\n",
        "        print('\\t', title, \"-\", user)"
      ],
      "execution_count": null,
      "outputs": []
    },
    {
      "cell_type": "code",
      "metadata": {
        "id": "fPKL3_oPdLm5"
      },
      "source": [
        ""
      ],
      "execution_count": null,
      "outputs": []
    }
  ]
}