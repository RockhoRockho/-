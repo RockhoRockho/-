{
  "nbformat": 4,
  "nbformat_minor": 0,
  "metadata": {
    "colab": {
      "name": "구글 이미지 스크래핑.ipynb",
      "provenance": [],
      "authorship_tag": "ABX9TyMG7txZcHOAoDi4ylKbOmQ9",
      "include_colab_link": true
    },
    "kernelspec": {
      "name": "python3",
      "display_name": "Python 3"
    },
    "language_info": {
      "name": "python"
    }
  },
  "cells": [
    {
      "cell_type": "markdown",
      "metadata": {
        "id": "view-in-github",
        "colab_type": "text"
      },
      "source": [
        "<a href=\"https://colab.research.google.com/github/RockhoRockho/Scraping-Crawling/blob/main/%EA%B5%AC%EA%B8%80_%EC%9D%B4%EB%AF%B8%EC%A7%80_%EC%8A%A4%ED%81%AC%EB%9E%98%ED%95%91.ipynb\" target=\"_parent\"><img src=\"https://colab.research.google.com/assets/colab-badge.svg\" alt=\"Open In Colab\"/></a>"
      ]
    },
    {
      "cell_type": "markdown",
      "metadata": {
        "id": "YpSUmXPfZwta"
      },
      "source": [
        "# 구글 이미지 스크래핑"
      ]
    },
    {
      "cell_type": "markdown",
      "metadata": {
        "id": "3CeHal4nZ9hI"
      },
      "source": [
        "## Selenium 및 웹 드라이버 설치"
      ]
    },
    {
      "cell_type": "code",
      "metadata": {
        "colab": {
          "base_uri": "https://localhost:8080/"
        },
        "id": "-ZfE4UrnaGHU",
        "outputId": "8f5c5dbd-2150-4fff-d6a4-39410ea047b2"
      },
      "source": [
        "!pip install Selenium\n",
        "!apt-get update\n",
        "!apt install chromium-chromedriver\n",
        "!cp /usr/lib/chromium-browser/chromedriver /usr/bin\n",
        "\n",
        "import sys\n",
        "sys.path.insert(0, '/usr/lib/chromium-browser/chromedriver')\n",
        "\n",
        "from selenium import webdriver\n",
        "chrome_options = webdriver.ChromeOptions()\n",
        "chrome_options.add_argument('--headless')\n",
        "chrome_options.add_argument('--no-sandbox')\n",
        "chrome_options.add_argument('--disable-dev-shm-usage')"
      ],
      "execution_count": 21,
      "outputs": [
        {
          "output_type": "stream",
          "name": "stdout",
          "text": [
            "Requirement already satisfied: Selenium in /usr/local/lib/python3.7/dist-packages (4.0.0)\n",
            "Requirement already satisfied: trio-websocket~=0.9 in /usr/local/lib/python3.7/dist-packages (from Selenium) (0.9.2)\n",
            "Requirement already satisfied: trio~=0.17 in /usr/local/lib/python3.7/dist-packages (from Selenium) (0.19.0)\n",
            "Requirement already satisfied: urllib3[secure]~=1.26 in /usr/local/lib/python3.7/dist-packages (from Selenium) (1.26.7)\n",
            "Requirement already satisfied: idna in /usr/local/lib/python3.7/dist-packages (from trio~=0.17->Selenium) (2.10)\n",
            "Requirement already satisfied: sortedcontainers in /usr/local/lib/python3.7/dist-packages (from trio~=0.17->Selenium) (2.4.0)\n",
            "Requirement already satisfied: attrs>=19.2.0 in /usr/local/lib/python3.7/dist-packages (from trio~=0.17->Selenium) (21.2.0)\n",
            "Requirement already satisfied: outcome in /usr/local/lib/python3.7/dist-packages (from trio~=0.17->Selenium) (1.1.0)\n",
            "Requirement already satisfied: async-generator>=1.9 in /usr/local/lib/python3.7/dist-packages (from trio~=0.17->Selenium) (1.10)\n",
            "Requirement already satisfied: sniffio in /usr/local/lib/python3.7/dist-packages (from trio~=0.17->Selenium) (1.2.0)\n",
            "Requirement already satisfied: wsproto>=0.14 in /usr/local/lib/python3.7/dist-packages (from trio-websocket~=0.9->Selenium) (1.0.0)\n",
            "Requirement already satisfied: cryptography>=1.3.4 in /usr/local/lib/python3.7/dist-packages (from urllib3[secure]~=1.26->Selenium) (35.0.0)\n",
            "Requirement already satisfied: certifi in /usr/local/lib/python3.7/dist-packages (from urllib3[secure]~=1.26->Selenium) (2021.5.30)\n",
            "Requirement already satisfied: pyOpenSSL>=0.14 in /usr/local/lib/python3.7/dist-packages (from urllib3[secure]~=1.26->Selenium) (21.0.0)\n",
            "Requirement already satisfied: cffi>=1.12 in /usr/local/lib/python3.7/dist-packages (from cryptography>=1.3.4->urllib3[secure]~=1.26->Selenium) (1.14.6)\n",
            "Requirement already satisfied: pycparser in /usr/local/lib/python3.7/dist-packages (from cffi>=1.12->cryptography>=1.3.4->urllib3[secure]~=1.26->Selenium) (2.20)\n",
            "Requirement already satisfied: six>=1.5.2 in /usr/local/lib/python3.7/dist-packages (from pyOpenSSL>=0.14->urllib3[secure]~=1.26->Selenium) (1.15.0)\n",
            "Requirement already satisfied: h11<1,>=0.9.0 in /usr/local/lib/python3.7/dist-packages (from wsproto>=0.14->trio-websocket~=0.9->Selenium) (0.12.0)\n",
            "Hit:1 https://cloud.r-project.org/bin/linux/ubuntu bionic-cran40/ InRelease\n",
            "Ign:2 https://developer.download.nvidia.com/compute/cuda/repos/ubuntu1804/x86_64  InRelease\n",
            "Ign:3 https://developer.download.nvidia.com/compute/machine-learning/repos/ubuntu1804/x86_64  InRelease\n",
            "Hit:4 https://developer.download.nvidia.com/compute/cuda/repos/ubuntu1804/x86_64  Release\n",
            "Get:5 http://security.ubuntu.com/ubuntu bionic-security InRelease [88.7 kB]\n",
            "Hit:6 https://developer.download.nvidia.com/compute/machine-learning/repos/ubuntu1804/x86_64  Release\n",
            "Hit:7 http://ppa.launchpad.net/c2d4u.team/c2d4u4.0+/ubuntu bionic InRelease\n",
            "Hit:8 http://archive.ubuntu.com/ubuntu bionic InRelease\n",
            "Get:9 http://archive.ubuntu.com/ubuntu bionic-updates InRelease [88.7 kB]\n",
            "Hit:10 http://ppa.launchpad.net/cran/libgit2/ubuntu bionic InRelease\n",
            "Hit:13 http://ppa.launchpad.net/deadsnakes/ppa/ubuntu bionic InRelease\n",
            "Get:14 http://archive.ubuntu.com/ubuntu bionic-backports InRelease [74.6 kB]\n",
            "Hit:15 http://ppa.launchpad.net/graphics-drivers/ppa/ubuntu bionic InRelease\n",
            "Fetched 252 kB in 2s (101 kB/s)\n",
            "Reading package lists... Done\n",
            "Reading package lists... Done\n",
            "Building dependency tree       \n",
            "Reading state information... Done\n",
            "chromium-chromedriver is already the newest version (94.0.4606.71-0ubuntu0.18.04.1).\n",
            "0 upgraded, 0 newly installed, 0 to remove and 38 not upgraded.\n",
            "cp: '/usr/lib/chromium-browser/chromedriver' and '/usr/bin/chromedriver' are the same file\n"
          ]
        }
      ]
    },
    {
      "cell_type": "markdown",
      "metadata": {
        "id": "i4FtYsfZb9Li"
      },
      "source": [
        "## 라이브러리 import"
      ]
    },
    {
      "cell_type": "code",
      "metadata": {
        "id": "JDcavmpmbGkJ"
      },
      "source": [
        "import os\n",
        "import time\n",
        "import socket\n",
        "\n",
        "from urllib.request import urlretrieve\n",
        "from urllib.error import HTTPError, URLError\n",
        "from selenium.common.exceptions import ElementClickInterceptedException, NoSuchElementException, ElementNotInteractableException\n",
        "from PIL import Image"
      ],
      "execution_count": 22,
      "outputs": []
    },
    {
      "cell_type": "markdown",
      "metadata": {
        "id": "FLyJPjA4fc8x"
      },
      "source": [
        "## `scroll_down()`: 스크롤을 내리는 함수"
      ]
    },
    {
      "cell_type": "code",
      "metadata": {
        "id": "7GbkjQPAfhQu"
      },
      "source": [
        "def scroll_down():\n",
        "    scroll_count = 0\n",
        "    print(\"[scroll_down(): 스크롤 다운 시작]\")\n",
        "\n",
        "    last_height = wd.execute_script(\"return document.body.scrollHeight\")\n",
        "    after_click = False\n",
        "\n",
        "    while True:\n",
        "        print(f\"[스크롤 다운: {scroll_count}]\")\n",
        "        wd.execute_script(\"window.scrollTo(0, document.body.scrollHeight);\")\n",
        "        scroll_count += 1\n",
        "        time.sleep(1)\n",
        "\n",
        "        new_height = wd.execute_script(\"return document.body.scrollHeight\")\n",
        "\n",
        "        if last_height == new_height:\n",
        "            if after_click is True:\n",
        "                break\n",
        "            \n",
        "            else:\n",
        "                try:\n",
        "                    more_button = wd.find_element_by_xpath('//*[@id=\"islmp\"]/div/div/div/div[1]/div[2]/div[2]/input')\n",
        "                    if more_button.is_displayed():\n",
        "                        more_button.click()\n",
        "                        after_click = True\n",
        "                except NoSuchElementException as e:\n",
        "                    print(e)\n",
        "                    break\n",
        "\n",
        "        last_height = new_height\n"
      ],
      "execution_count": 23,
      "outputs": []
    },
    {
      "cell_type": "markdown",
      "metadata": {
        "id": "QQrfVwN6l8Au"
      },
      "source": [
        "## `click_and_save()`: 썸네일을 이미지 선택 후 원본 이미지 저장"
      ]
    },
    {
      "cell_type": "code",
      "metadata": {
        "id": "huecL9UMmKd2"
      },
      "source": [
        "def click_and_save(dir_name, index, img, img_list_length):\n",
        "    global scraped_count\n",
        "\n",
        "    try:\n",
        "        img.click()\n",
        "        wd.implicitly_wait(8)\n",
        "        src = wd.find_element_by_xpath('//*[@id=\"Sva75c\"]/div/div/div[3]/div[2]/c-wiz/div/div[1]/div[1]/div[2]/div/a/img').get_attribute('src')\n",
        "        if src.split('.')[-1] == 'png':\n",
        "            urlretrieve(src, dir_name + '/' + str(scraped_count + 1) + '.png')\n",
        "            print(f\" {index+1}/{img_list_length} PNG 이미지 저장\")\n",
        "        else:\n",
        "            urlretrieve(src, dir_name + '/' + str(scraped_count + 1) + '.jpg')\n",
        "            print(f\" {index+1}/{img_list_length} JPG 이미지 저장\")\n",
        "\n",
        "        scraped_count += 1\n",
        "\n",
        "    except HTTPError as e:\n",
        "        print(e)\n",
        "        pass"
      ],
      "execution_count": 24,
      "outputs": []
    },
    {
      "cell_type": "markdown",
      "metadata": {
        "id": "F5rWYbECc3Tc"
      },
      "source": [
        "## `scraping()`: 구글 이미지 스크래핑 함수"
      ]
    },
    {
      "cell_type": "code",
      "metadata": {
        "id": "4KbaAC7jdKfV"
      },
      "source": [
        "def scraping(dir_name, query):\n",
        "    global scraped_count\n",
        "\n",
        "    url = f\"https://www.google.com/search?q={query}&tbm=isch&hl=ko&tbs=isz:l&sa=X&ved=0CAIQpwVqFwoTCIis_vK8zvMCFQAAAAAdAAAAABAC&biw=1684&bih=812\"\n",
        "    wd.get(url)\n",
        "    wd.maximize_window()\n",
        "\n",
        "    scroll_down()\n",
        "\n",
        "    div = wd.find_element_by_xpath('//*[@id=\"islrg\"]/div[1]')\n",
        "    img_list = div.find_elements_by_css_selector('div.bRMDJf.islir > img')\n",
        "\n",
        "    for index, img in enumerate(img_list):\n",
        "        try:\n",
        "            click_and_save(dir_name, index, img, len(img_list))\n",
        "        except ElementClickInterceptedException as e:\n",
        "            print(e)\n",
        "            wd.execute_script('window.scrollTo(0, window.scrollY + 100')\n",
        "            time.sleep(1)\n",
        "            click_and_save(dir_name, index, img, len(img_list))\n",
        "        except NoSuchElementException as e:\n",
        "            print(e)\n",
        "            wd.execute_script('window.scrollTo(0, window.scrollY + 100')\n",
        "            time.sleep(1)\n",
        "            click_and_save(dir_name, index, img, len(img_list))\n",
        "        except ConnectionResetError as e:\n",
        "            print(e)\n",
        "            pass\n",
        "        except URLError as e:\n",
        "            print(e)\n",
        "            pass\n",
        "        except socket.timeout as e:\n",
        "            print(e)\n",
        "            pass\n",
        "        except socket.gaierror as e:\n",
        "            print(e)\n",
        "            pass\n",
        "        except ElementNotInteractableException as e:\n",
        "            print(e)\n",
        "            break\n",
        "\n",
        "    try:\n",
        "        print(\"[스크래핑 종료 (성공률: %.2f%%)]\" % (scraped_count / len(img_list) * 100.0))\n",
        "\n",
        "    except ZeroDivisionError as e:\n",
        "        print(e)\n",
        "\n",
        "    wd.quit()"
      ],
      "execution_count": 25,
      "outputs": []
    },
    {
      "cell_type": "markdown",
      "metadata": {
        "id": "__i220aWrpAM"
      },
      "source": [
        "## `filter_and_remove()`: 일정 해상도 이하이거나 손상된 이미지 제거"
      ]
    },
    {
      "cell_type": "code",
      "metadata": {
        "id": "A7IrHWzHrxKR"
      },
      "source": [
        "def filter_and_remove(dir_name, query, filter_size):\n",
        "    filtered_count = 0\n",
        "\n",
        "    for index, file_name in enumerate(os.listdir(dir_name)):\n",
        "        try:\n",
        "            file_path = os.path.join(dir_name, file_name)\n",
        "            img = Image.open(file_path)\n",
        "\n",
        "            if img.width < filter_size and img.height < filter_size:\n",
        "                img.close()\n",
        "                os.remove(file_path)\n",
        "                print(f\"{index} 이미지 제거\")\n",
        "                filtered_count += 1\n",
        "        except OSError as e:\n",
        "            print(e)\n",
        "            os.remove(file_path)\n",
        "            filtered_count += 1\n",
        "\n",
        "    print(f\"[이미지 제거 개수: {filtered_count}/{scraped_count}\")"
      ],
      "execution_count": 26,
      "outputs": []
    },
    {
      "cell_type": "markdown",
      "metadata": {
        "id": "rivUDeSCcDhU"
      },
      "source": [
        "## 스크래핑 실행"
      ]
    },
    {
      "cell_type": "code",
      "metadata": {
        "colab": {
          "base_uri": "https://localhost:8080/",
          "height": 1000
        },
        "id": "zC_sqFUbcLv1",
        "outputId": "f717df52-f0b8-4c12-c5e1-fe54fe2322e4"
      },
      "source": [
        "socket.setdefaulttimeout(30)\n",
        "\n",
        "wd = webdriver.Chrome('chromedriver', options=chrome_options)\n",
        "scraped_count = 0\n",
        "\n",
        "path = './'\n",
        "query = input('검색어 입력: ')\n",
        "\n",
        "dir_name = path + query\n",
        "os.makedirs(dir_name)\n",
        "print(f\"[{dir_name} 디렉토리 생성]\")\n",
        "\n",
        "scraping(dir_name, query)\n",
        "filter_and_remove(dir_name, query, 400)"
      ],
      "execution_count": 27,
      "outputs": [
        {
          "output_type": "stream",
          "name": "stdout",
          "text": [
            "검색어 입력: sea\n",
            "[./sea 디렉토리 생성]\n",
            "[scroll_down(): 스크롤 다운 시작]\n",
            "[스크롤 다운: 0]\n",
            "[스크롤 다운: 1]\n",
            "[스크롤 다운: 2]\n",
            "[스크롤 다운: 3]\n"
          ]
        },
        {
          "output_type": "stream",
          "name": "stderr",
          "text": [
            "/usr/local/lib/python3.7/dist-packages/ipykernel_launcher.py:22: DeprecationWarning: find_element_by_* commands are deprecated. Please use find_element() instead\n"
          ]
        },
        {
          "output_type": "stream",
          "name": "stdout",
          "text": [
            "[스크롤 다운: 4]\n",
            "[스크롤 다운: 5]\n",
            "[스크롤 다운: 6]\n",
            "[스크롤 다운: 7]\n",
            "[스크롤 다운: 8]\n",
            "[스크롤 다운: 9]\n"
          ]
        },
        {
          "output_type": "stream",
          "name": "stderr",
          "text": [
            "/usr/local/lib/python3.7/dist-packages/ipykernel_launcher.py:10: DeprecationWarning: find_element_by_* commands are deprecated. Please use find_element() instead\n",
            "  # Remove the CWD from sys.path while we load stuff.\n",
            "/usr/local/lib/python3.7/dist-packages/selenium/webdriver/remote/webelement.py:501: UserWarning: find_elements_by_* commands are deprecated. Please use find_elements() instead\n",
            "  warnings.warn(\"find_elements_by_* commands are deprecated. Please use find_elements() instead\")\n",
            "/usr/local/lib/python3.7/dist-packages/ipykernel_launcher.py:7: DeprecationWarning: find_element_by_* commands are deprecated. Please use find_element() instead\n",
            "  import sys\n"
          ]
        },
        {
          "output_type": "stream",
          "name": "stdout",
          "text": [
            "Message: no such element: Unable to locate element: {\"method\":\"xpath\",\"selector\":\"//*[@id=\"Sva75c\"]/div/div/div[3]/div[2]/c-wiz/div/div[1]/div[1]/div[2]/div/a/img\"}\n",
            "  (Session info: headless chrome=94.0.4606.71)\n",
            "Stacktrace:\n",
            "#0 0x562457acd6e3 <unknown>\n",
            "#1 0x5624577de9f3 <unknown>\n",
            "#2 0x562457814230 <unknown>\n",
            "#3 0x562457847c47 <unknown>\n",
            "#4 0x56245783125d <unknown>\n",
            "#5 0x5624578459bc <unknown>\n",
            "#6 0x562457831643 <unknown>\n",
            "#7 0x5624578088ec <unknown>\n",
            "#8 0x562457809db5 <unknown>\n",
            "#9 0x562457af1a14 <unknown>\n",
            "#10 0x562457b0115d <unknown>\n",
            "#11 0x562457b00e7b <unknown>\n",
            "#12 0x562457b017a2 <unknown>\n",
            "#13 0x562457b3a52b <unknown>\n",
            "#14 0x562457b01a01 <unknown>\n",
            "#15 0x562457ae68f1 <unknown>\n",
            "#16 0x562457b0a408 <unknown>\n",
            "#17 0x562457b0a59a <unknown>\n",
            "#18 0x562457b2432f <unknown>\n",
            "#19 0x7f0540fc36db start_thread\n",
            "\n"
          ]
        },
        {
          "output_type": "error",
          "ename": "JavascriptException",
          "evalue": "ignored",
          "traceback": [
            "\u001b[0;31m---------------------------------------------------------------------------\u001b[0m",
            "\u001b[0;31mNoSuchElementException\u001b[0m                    Traceback (most recent call last)",
            "\u001b[0;32m<ipython-input-25-43a84e97c2ce>\u001b[0m in \u001b[0;36mscraping\u001b[0;34m(dir_name, query)\u001b[0m\n\u001b[1;32m     14\u001b[0m         \u001b[0;32mtry\u001b[0m\u001b[0;34m:\u001b[0m\u001b[0;34m\u001b[0m\u001b[0;34m\u001b[0m\u001b[0m\n\u001b[0;32m---> 15\u001b[0;31m             \u001b[0mclick_and_save\u001b[0m\u001b[0;34m(\u001b[0m\u001b[0mdir_name\u001b[0m\u001b[0;34m,\u001b[0m \u001b[0mindex\u001b[0m\u001b[0;34m,\u001b[0m \u001b[0mimg\u001b[0m\u001b[0;34m,\u001b[0m \u001b[0mlen\u001b[0m\u001b[0;34m(\u001b[0m\u001b[0mimg_list\u001b[0m\u001b[0;34m)\u001b[0m\u001b[0;34m)\u001b[0m\u001b[0;34m\u001b[0m\u001b[0;34m\u001b[0m\u001b[0m\n\u001b[0m\u001b[1;32m     16\u001b[0m         \u001b[0;32mexcept\u001b[0m \u001b[0mElementClickInterceptedException\u001b[0m \u001b[0;32mas\u001b[0m \u001b[0me\u001b[0m\u001b[0;34m:\u001b[0m\u001b[0;34m\u001b[0m\u001b[0;34m\u001b[0m\u001b[0m\n",
            "\u001b[0;32m<ipython-input-24-f75d9fea24fb>\u001b[0m in \u001b[0;36mclick_and_save\u001b[0;34m(dir_name, index, img, img_list_length)\u001b[0m\n\u001b[1;32m      6\u001b[0m         \u001b[0mwd\u001b[0m\u001b[0;34m.\u001b[0m\u001b[0mimplicitly_wait\u001b[0m\u001b[0;34m(\u001b[0m\u001b[0;36m8\u001b[0m\u001b[0;34m)\u001b[0m\u001b[0;34m\u001b[0m\u001b[0;34m\u001b[0m\u001b[0m\n\u001b[0;32m----> 7\u001b[0;31m         \u001b[0msrc\u001b[0m \u001b[0;34m=\u001b[0m \u001b[0mwd\u001b[0m\u001b[0;34m.\u001b[0m\u001b[0mfind_element_by_xpath\u001b[0m\u001b[0;34m(\u001b[0m\u001b[0;34m'//*[@id=\"Sva75c\"]/div/div/div[3]/div[2]/c-wiz/div/div[1]/div[1]/div[2]/div/a/img'\u001b[0m\u001b[0;34m)\u001b[0m\u001b[0;34m.\u001b[0m\u001b[0mget_attribute\u001b[0m\u001b[0;34m(\u001b[0m\u001b[0;34m'src'\u001b[0m\u001b[0;34m)\u001b[0m\u001b[0;34m\u001b[0m\u001b[0;34m\u001b[0m\u001b[0m\n\u001b[0m\u001b[1;32m      8\u001b[0m         \u001b[0;32mif\u001b[0m \u001b[0msrc\u001b[0m\u001b[0;34m.\u001b[0m\u001b[0msplit\u001b[0m\u001b[0;34m(\u001b[0m\u001b[0;34m'.'\u001b[0m\u001b[0;34m)\u001b[0m\u001b[0;34m[\u001b[0m\u001b[0;34m-\u001b[0m\u001b[0;36m1\u001b[0m\u001b[0;34m]\u001b[0m \u001b[0;34m==\u001b[0m \u001b[0;34m'png'\u001b[0m\u001b[0;34m:\u001b[0m\u001b[0;34m\u001b[0m\u001b[0;34m\u001b[0m\u001b[0m\n",
            "\u001b[0;32m/usr/local/lib/python3.7/dist-packages/selenium/webdriver/remote/webdriver.py\u001b[0m in \u001b[0;36mfind_element_by_xpath\u001b[0;34m(self, xpath)\u001b[0m\n\u001b[1;32m    513\u001b[0m         )\n\u001b[0;32m--> 514\u001b[0;31m         \u001b[0;32mreturn\u001b[0m \u001b[0mself\u001b[0m\u001b[0;34m.\u001b[0m\u001b[0mfind_element\u001b[0m\u001b[0;34m(\u001b[0m\u001b[0mby\u001b[0m\u001b[0;34m=\u001b[0m\u001b[0mBy\u001b[0m\u001b[0;34m.\u001b[0m\u001b[0mXPATH\u001b[0m\u001b[0;34m,\u001b[0m \u001b[0mvalue\u001b[0m\u001b[0;34m=\u001b[0m\u001b[0mxpath\u001b[0m\u001b[0;34m)\u001b[0m\u001b[0;34m\u001b[0m\u001b[0;34m\u001b[0m\u001b[0m\n\u001b[0m\u001b[1;32m    515\u001b[0m \u001b[0;34m\u001b[0m\u001b[0m\n",
            "\u001b[0;32m/usr/local/lib/python3.7/dist-packages/selenium/webdriver/remote/webdriver.py\u001b[0m in \u001b[0;36mfind_element\u001b[0;34m(self, by, value)\u001b[0m\n\u001b[1;32m   1239\u001b[0m             \u001b[0;34m'using'\u001b[0m\u001b[0;34m:\u001b[0m \u001b[0mby\u001b[0m\u001b[0;34m,\u001b[0m\u001b[0;34m\u001b[0m\u001b[0;34m\u001b[0m\u001b[0m\n\u001b[0;32m-> 1240\u001b[0;31m             'value': value})['value']\n\u001b[0m\u001b[1;32m   1241\u001b[0m \u001b[0;34m\u001b[0m\u001b[0m\n",
            "\u001b[0;32m/usr/local/lib/python3.7/dist-packages/selenium/webdriver/remote/webdriver.py\u001b[0m in \u001b[0;36mexecute\u001b[0;34m(self, driver_command, params)\u001b[0m\n\u001b[1;32m    417\u001b[0m         \u001b[0;32mif\u001b[0m \u001b[0mresponse\u001b[0m\u001b[0;34m:\u001b[0m\u001b[0;34m\u001b[0m\u001b[0;34m\u001b[0m\u001b[0m\n\u001b[0;32m--> 418\u001b[0;31m             \u001b[0mself\u001b[0m\u001b[0;34m.\u001b[0m\u001b[0merror_handler\u001b[0m\u001b[0;34m.\u001b[0m\u001b[0mcheck_response\u001b[0m\u001b[0;34m(\u001b[0m\u001b[0mresponse\u001b[0m\u001b[0;34m)\u001b[0m\u001b[0;34m\u001b[0m\u001b[0;34m\u001b[0m\u001b[0m\n\u001b[0m\u001b[1;32m    419\u001b[0m             response['value'] = self._unwrap_value(\n",
            "\u001b[0;32m/usr/local/lib/python3.7/dist-packages/selenium/webdriver/remote/errorhandler.py\u001b[0m in \u001b[0;36mcheck_response\u001b[0;34m(self, response)\u001b[0m\n\u001b[1;32m    242\u001b[0m             \u001b[0;32mraise\u001b[0m \u001b[0mexception_class\u001b[0m\u001b[0;34m(\u001b[0m\u001b[0mmessage\u001b[0m\u001b[0;34m,\u001b[0m \u001b[0mscreen\u001b[0m\u001b[0;34m,\u001b[0m \u001b[0mstacktrace\u001b[0m\u001b[0;34m,\u001b[0m \u001b[0malert_text\u001b[0m\u001b[0;34m)\u001b[0m  \u001b[0;31m# type: ignore[call-arg]  # mypy is not smart enough here\u001b[0m\u001b[0;34m\u001b[0m\u001b[0;34m\u001b[0m\u001b[0m\n\u001b[0;32m--> 243\u001b[0;31m         \u001b[0;32mraise\u001b[0m \u001b[0mexception_class\u001b[0m\u001b[0;34m(\u001b[0m\u001b[0mmessage\u001b[0m\u001b[0;34m,\u001b[0m \u001b[0mscreen\u001b[0m\u001b[0;34m,\u001b[0m \u001b[0mstacktrace\u001b[0m\u001b[0;34m)\u001b[0m\u001b[0;34m\u001b[0m\u001b[0;34m\u001b[0m\u001b[0m\n\u001b[0m\u001b[1;32m    244\u001b[0m \u001b[0;34m\u001b[0m\u001b[0m\n",
            "\u001b[0;31mNoSuchElementException\u001b[0m: Message: no such element: Unable to locate element: {\"method\":\"xpath\",\"selector\":\"//*[@id=\"Sva75c\"]/div/div/div[3]/div[2]/c-wiz/div/div[1]/div[1]/div[2]/div/a/img\"}\n  (Session info: headless chrome=94.0.4606.71)\nStacktrace:\n#0 0x562457acd6e3 <unknown>\n#1 0x5624577de9f3 <unknown>\n#2 0x562457814230 <unknown>\n#3 0x562457847c47 <unknown>\n#4 0x56245783125d <unknown>\n#5 0x5624578459bc <unknown>\n#6 0x562457831643 <unknown>\n#7 0x5624578088ec <unknown>\n#8 0x562457809db5 <unknown>\n#9 0x562457af1a14 <unknown>\n#10 0x562457b0115d <unknown>\n#11 0x562457b00e7b <unknown>\n#12 0x562457b017a2 <unknown>\n#13 0x562457b3a52b <unknown>\n#14 0x562457b01a01 <unknown>\n#15 0x562457ae68f1 <unknown>\n#16 0x562457b0a408 <unknown>\n#17 0x562457b0a59a <unknown>\n#18 0x562457b2432f <unknown>\n#19 0x7f0540fc36db start_thread\n",
            "\nDuring handling of the above exception, another exception occurred:\n",
            "\u001b[0;31mJavascriptException\u001b[0m                       Traceback (most recent call last)",
            "\u001b[0;32m<ipython-input-27-f49966963469>\u001b[0m in \u001b[0;36m<module>\u001b[0;34m()\u001b[0m\n\u001b[1;32m     11\u001b[0m \u001b[0mprint\u001b[0m\u001b[0;34m(\u001b[0m\u001b[0;34mf\"[{dir_name} 디렉토리 생성]\"\u001b[0m\u001b[0;34m)\u001b[0m\u001b[0;34m\u001b[0m\u001b[0;34m\u001b[0m\u001b[0m\n\u001b[1;32m     12\u001b[0m \u001b[0;34m\u001b[0m\u001b[0m\n\u001b[0;32m---> 13\u001b[0;31m \u001b[0mscraping\u001b[0m\u001b[0;34m(\u001b[0m\u001b[0mdir_name\u001b[0m\u001b[0;34m,\u001b[0m \u001b[0mquery\u001b[0m\u001b[0;34m)\u001b[0m\u001b[0;34m\u001b[0m\u001b[0;34m\u001b[0m\u001b[0m\n\u001b[0m\u001b[1;32m     14\u001b[0m \u001b[0mfilter_and_remove\u001b[0m\u001b[0;34m(\u001b[0m\u001b[0mdir_name\u001b[0m\u001b[0;34m,\u001b[0m \u001b[0mquery\u001b[0m\u001b[0;34m,\u001b[0m \u001b[0;36m400\u001b[0m\u001b[0;34m)\u001b[0m\u001b[0;34m\u001b[0m\u001b[0;34m\u001b[0m\u001b[0m\n",
            "\u001b[0;32m<ipython-input-25-43a84e97c2ce>\u001b[0m in \u001b[0;36mscraping\u001b[0;34m(dir_name, query)\u001b[0m\n\u001b[1;32m     21\u001b[0m         \u001b[0;32mexcept\u001b[0m \u001b[0mNoSuchElementException\u001b[0m \u001b[0;32mas\u001b[0m \u001b[0me\u001b[0m\u001b[0;34m:\u001b[0m\u001b[0;34m\u001b[0m\u001b[0;34m\u001b[0m\u001b[0m\n\u001b[1;32m     22\u001b[0m             \u001b[0mprint\u001b[0m\u001b[0;34m(\u001b[0m\u001b[0me\u001b[0m\u001b[0;34m)\u001b[0m\u001b[0;34m\u001b[0m\u001b[0;34m\u001b[0m\u001b[0m\n\u001b[0;32m---> 23\u001b[0;31m             \u001b[0mwd\u001b[0m\u001b[0;34m.\u001b[0m\u001b[0mexecute_script\u001b[0m\u001b[0;34m(\u001b[0m\u001b[0;34m'window.scrollTo(0, window.scrollY + 100'\u001b[0m\u001b[0;34m)\u001b[0m\u001b[0;34m\u001b[0m\u001b[0;34m\u001b[0m\u001b[0m\n\u001b[0m\u001b[1;32m     24\u001b[0m             \u001b[0mtime\u001b[0m\u001b[0;34m.\u001b[0m\u001b[0msleep\u001b[0m\u001b[0;34m(\u001b[0m\u001b[0;36m1\u001b[0m\u001b[0;34m)\u001b[0m\u001b[0;34m\u001b[0m\u001b[0;34m\u001b[0m\u001b[0m\n\u001b[1;32m     25\u001b[0m             \u001b[0mclick_and_save\u001b[0m\u001b[0;34m(\u001b[0m\u001b[0mdir_name\u001b[0m\u001b[0;34m,\u001b[0m \u001b[0mindex\u001b[0m\u001b[0;34m,\u001b[0m \u001b[0mimg\u001b[0m\u001b[0;34m,\u001b[0m \u001b[0mlen\u001b[0m\u001b[0;34m(\u001b[0m\u001b[0mimg_list\u001b[0m\u001b[0;34m)\u001b[0m\u001b[0;34m)\u001b[0m\u001b[0;34m\u001b[0m\u001b[0;34m\u001b[0m\u001b[0m\n",
            "\u001b[0;32m/usr/local/lib/python3.7/dist-packages/selenium/webdriver/remote/webdriver.py\u001b[0m in \u001b[0;36mexecute_script\u001b[0;34m(self, script, *args)\u001b[0m\n\u001b[1;32m    872\u001b[0m         return self.execute(command, {\n\u001b[1;32m    873\u001b[0m             \u001b[0;34m'script'\u001b[0m\u001b[0;34m:\u001b[0m \u001b[0mscript\u001b[0m\u001b[0;34m,\u001b[0m\u001b[0;34m\u001b[0m\u001b[0;34m\u001b[0m\u001b[0m\n\u001b[0;32m--> 874\u001b[0;31m             'args': converted_args})['value']\n\u001b[0m\u001b[1;32m    875\u001b[0m \u001b[0;34m\u001b[0m\u001b[0m\n\u001b[1;32m    876\u001b[0m     \u001b[0;32mdef\u001b[0m \u001b[0mexecute_async_script\u001b[0m\u001b[0;34m(\u001b[0m\u001b[0mself\u001b[0m\u001b[0;34m,\u001b[0m \u001b[0mscript\u001b[0m\u001b[0;34m:\u001b[0m \u001b[0mstr\u001b[0m\u001b[0;34m,\u001b[0m \u001b[0;34m*\u001b[0m\u001b[0margs\u001b[0m\u001b[0;34m)\u001b[0m\u001b[0;34m:\u001b[0m\u001b[0;34m\u001b[0m\u001b[0;34m\u001b[0m\u001b[0m\n",
            "\u001b[0;32m/usr/local/lib/python3.7/dist-packages/selenium/webdriver/remote/webdriver.py\u001b[0m in \u001b[0;36mexecute\u001b[0;34m(self, driver_command, params)\u001b[0m\n\u001b[1;32m    416\u001b[0m         \u001b[0mresponse\u001b[0m \u001b[0;34m=\u001b[0m \u001b[0mself\u001b[0m\u001b[0;34m.\u001b[0m\u001b[0mcommand_executor\u001b[0m\u001b[0;34m.\u001b[0m\u001b[0mexecute\u001b[0m\u001b[0;34m(\u001b[0m\u001b[0mdriver_command\u001b[0m\u001b[0;34m,\u001b[0m \u001b[0mparams\u001b[0m\u001b[0;34m)\u001b[0m\u001b[0;34m\u001b[0m\u001b[0;34m\u001b[0m\u001b[0m\n\u001b[1;32m    417\u001b[0m         \u001b[0;32mif\u001b[0m \u001b[0mresponse\u001b[0m\u001b[0;34m:\u001b[0m\u001b[0;34m\u001b[0m\u001b[0;34m\u001b[0m\u001b[0m\n\u001b[0;32m--> 418\u001b[0;31m             \u001b[0mself\u001b[0m\u001b[0;34m.\u001b[0m\u001b[0merror_handler\u001b[0m\u001b[0;34m.\u001b[0m\u001b[0mcheck_response\u001b[0m\u001b[0;34m(\u001b[0m\u001b[0mresponse\u001b[0m\u001b[0;34m)\u001b[0m\u001b[0;34m\u001b[0m\u001b[0;34m\u001b[0m\u001b[0m\n\u001b[0m\u001b[1;32m    419\u001b[0m             response['value'] = self._unwrap_value(\n\u001b[1;32m    420\u001b[0m                 response.get('value', None))\n",
            "\u001b[0;32m/usr/local/lib/python3.7/dist-packages/selenium/webdriver/remote/errorhandler.py\u001b[0m in \u001b[0;36mcheck_response\u001b[0;34m(self, response)\u001b[0m\n\u001b[1;32m    241\u001b[0m                 \u001b[0malert_text\u001b[0m \u001b[0;34m=\u001b[0m \u001b[0mvalue\u001b[0m\u001b[0;34m[\u001b[0m\u001b[0;34m'alert'\u001b[0m\u001b[0;34m]\u001b[0m\u001b[0;34m.\u001b[0m\u001b[0mget\u001b[0m\u001b[0;34m(\u001b[0m\u001b[0;34m'text'\u001b[0m\u001b[0;34m)\u001b[0m\u001b[0;34m\u001b[0m\u001b[0;34m\u001b[0m\u001b[0m\n\u001b[1;32m    242\u001b[0m             \u001b[0;32mraise\u001b[0m \u001b[0mexception_class\u001b[0m\u001b[0;34m(\u001b[0m\u001b[0mmessage\u001b[0m\u001b[0;34m,\u001b[0m \u001b[0mscreen\u001b[0m\u001b[0;34m,\u001b[0m \u001b[0mstacktrace\u001b[0m\u001b[0;34m,\u001b[0m \u001b[0malert_text\u001b[0m\u001b[0;34m)\u001b[0m  \u001b[0;31m# type: ignore[call-arg]  # mypy is not smart enough here\u001b[0m\u001b[0;34m\u001b[0m\u001b[0;34m\u001b[0m\u001b[0m\n\u001b[0;32m--> 243\u001b[0;31m         \u001b[0;32mraise\u001b[0m \u001b[0mexception_class\u001b[0m\u001b[0;34m(\u001b[0m\u001b[0mmessage\u001b[0m\u001b[0;34m,\u001b[0m \u001b[0mscreen\u001b[0m\u001b[0;34m,\u001b[0m \u001b[0mstacktrace\u001b[0m\u001b[0;34m)\u001b[0m\u001b[0;34m\u001b[0m\u001b[0;34m\u001b[0m\u001b[0m\n\u001b[0m\u001b[1;32m    244\u001b[0m \u001b[0;34m\u001b[0m\u001b[0m\n\u001b[1;32m    245\u001b[0m     \u001b[0;32mdef\u001b[0m \u001b[0m_value_or_default\u001b[0m\u001b[0;34m(\u001b[0m\u001b[0mself\u001b[0m\u001b[0;34m,\u001b[0m \u001b[0mobj\u001b[0m\u001b[0;34m:\u001b[0m \u001b[0mMapping\u001b[0m\u001b[0;34m[\u001b[0m\u001b[0m_KT\u001b[0m\u001b[0;34m,\u001b[0m \u001b[0m_VT\u001b[0m\u001b[0;34m]\u001b[0m\u001b[0;34m,\u001b[0m \u001b[0mkey\u001b[0m\u001b[0;34m:\u001b[0m \u001b[0m_KT\u001b[0m\u001b[0;34m,\u001b[0m \u001b[0mdefault\u001b[0m\u001b[0;34m:\u001b[0m \u001b[0m_VT\u001b[0m\u001b[0;34m)\u001b[0m \u001b[0;34m->\u001b[0m \u001b[0m_VT\u001b[0m\u001b[0;34m:\u001b[0m\u001b[0;34m\u001b[0m\u001b[0;34m\u001b[0m\u001b[0m\n",
            "\u001b[0;31mJavascriptException\u001b[0m: Message: javascript error: missing ) after argument list\n  (Session info: headless chrome=94.0.4606.71)\nStacktrace:\n#0 0x562457acd6e3 <unknown>\n#1 0x5624577de9f3 <unknown>\n#2 0x5624577e1962 <unknown>\n#3 0x5624577e1769 <unknown>\n#4 0x5624577e231c <unknown>\n#5 0x5624578465a9 <unknown>\n#6 0x562457831212 <unknown>\n#7 0x5624578459bc <unknown>\n#8 0x562457831643 <unknown>\n#9 0x5624578088ec <unknown>\n#10 0x562457809db5 <unknown>\n#11 0x562457af1a14 <unknown>\n#12 0x562457b0115d <unknown>\n#13 0x562457b00e7b <unknown>\n#14 0x562457b017a2 <unknown>\n#15 0x562457b3a52b <unknown>\n#16 0x562457b01a01 <unknown>\n#17 0x562457ae68f1 <unknown>\n#18 0x562457b0a408 <unknown>\n#19 0x562457b0a59a <unknown>\n#20 0x562457b2432f <unknown>\n#21 0x7f0540fc36db start_thread\n"
          ]
        }
      ]
    },
    {
      "cell_type": "code",
      "metadata": {
        "colab": {
          "base_uri": "https://localhost:8080/"
        },
        "id": "L_K03mvjpV-H",
        "outputId": "3061f01f-9603-47c3-cb43-07ae2778d44f"
      },
      "source": [
        "!ls"
      ],
      "execution_count": 19,
      "outputs": [
        {
          "output_type": "stream",
          "name": "stdout",
          "text": [
            "sample_data  sea\n"
          ]
        }
      ]
    },
    {
      "cell_type": "code",
      "metadata": {
        "id": "dWPWwAk1u3sq"
      },
      "source": [
        "!rmdir sea"
      ],
      "execution_count": 20,
      "outputs": []
    },
    {
      "cell_type": "code",
      "metadata": {
        "id": "HBX1707Xu7gb"
      },
      "source": [
        ""
      ],
      "execution_count": null,
      "outputs": []
    }
  ]
}