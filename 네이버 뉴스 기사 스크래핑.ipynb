{
 "cells": [
  {
   "cell_type": "markdown",
   "id": "04b42bc3",
   "metadata": {},
   "source": [
    "# 네이버 뉴스 기사 스크래핑"
   ]
  },
  {
   "cell_type": "code",
   "execution_count": 16,
   "id": "9af57602",
   "metadata": {},
   "outputs": [],
   "source": [
    "from bs4 import BeautifulSoup\n",
    "import urllib.request\n",
    "from urllib.parse import quote\n",
    "import pandas as pd\n",
    "\n",
    "\n",
    "def get_news(query, page_num=10):\n",
    "    \n",
    "    news_df = pd.DataFrame(columns=('Title', 'Link', 'Press', 'Datetime', 'Article'))\n",
    "    idx = 0\n",
    "    \n",
    "    url_query = quote(query) \n",
    "    url = \"https://search.naver.com/search.naver?where=news&sm=tab_jum&query=\" + url_query\n",
    "    \n",
    "    \n",
    "    for _ in range(0, page_num):\n",
    "        search_url = urllib.request.urlopen(url).read()\n",
    "        soup = BeautifulSoup(search_url, 'html.parser')\n",
    "        links = soup.find_all('div', {'class':'info_group'})\n",
    "        for link in links:\n",
    "            press = link.find('a', {'class':'info press'}).get_text()\n",
    "            news_url = link.find('a').get('href')\n",
    "\n",
    "            if (news_url == '#'):\n",
    "                continue\n",
    "            else:\n",
    "                news_link = urllib.request.urlopen(news_url).read()\n",
    "                news_html = BeautifulSoup(news_link, 'html.parser')\n",
    "                \n",
    "                try:\n",
    "                    title = news_html.find('h3', {'class' : 'tts_head'}).get_text()\n",
    "                    datetime = news_html.find('span', {'class':'t11'}).get_text()[0]\n",
    "                    article = news_html.find('div', {'id':'articleBodyContents'}).get_text()\n",
    "\n",
    "                    news_df.loc[idx] = [title, news_url, press, datetime, article]\n",
    "                    idx += 1\n",
    "                    print('#', end='')\n",
    "                except:\n",
    "                    break\n",
    "    \n",
    "        try:\n",
    "            next = soup.find('a', {'class':'btn_next'}).get('href')\n",
    "            url = \"https://search.naver.com/search.naver\" + next\n",
    "        except:\n",
    "            break\n",
    "        \n",
    "    return news_df"
   ]
  },
  {
   "cell_type": "code",
   "execution_count": 20,
   "id": "cfdf7630",
   "metadata": {},
   "outputs": [
    {
     "name": "stdout",
     "output_type": "stream",
     "text": [
      "검색 질의: 다우\n",
      "Done\n"
     ]
    }
   ],
   "source": [
    "query = input('검색 질의: ')\n",
    "news_df = get_news(query, 10)\n",
    "print('Done')"
   ]
  },
  {
   "cell_type": "code",
   "execution_count": 21,
   "id": "60188e6b",
   "metadata": {},
   "outputs": [
    {
     "data": {
      "text/html": [
       "<div>\n",
       "<style scoped>\n",
       "    .dataframe tbody tr th:only-of-type {\n",
       "        vertical-align: middle;\n",
       "    }\n",
       "\n",
       "    .dataframe tbody tr th {\n",
       "        vertical-align: top;\n",
       "    }\n",
       "\n",
       "    .dataframe thead th {\n",
       "        text-align: right;\n",
       "    }\n",
       "</style>\n",
       "<table border=\"1\" class=\"dataframe\">\n",
       "  <thead>\n",
       "    <tr style=\"text-align: right;\">\n",
       "      <th></th>\n",
       "      <th>Title</th>\n",
       "      <th>Link</th>\n",
       "      <th>Press</th>\n",
       "      <th>Datetime</th>\n",
       "      <th>Article</th>\n",
       "    </tr>\n",
       "  </thead>\n",
       "  <tbody>\n",
       "  </tbody>\n",
       "</table>\n",
       "</div>"
      ],
      "text/plain": [
       "Empty DataFrame\n",
       "Columns: [Title, Link, Press, Datetime, Article]\n",
       "Index: []"
      ]
     },
     "execution_count": 21,
     "metadata": {},
     "output_type": "execute_result"
    }
   ],
   "source": [
    "news_df"
   ]
  },
  {
   "cell_type": "code",
   "execution_count": 22,
   "id": "56412003",
   "metadata": {},
   "outputs": [
    {
     "data": {
      "text/plain": [
       "Series([], Name: Article, dtype: object)"
      ]
     },
     "execution_count": 22,
     "metadata": {},
     "output_type": "execute_result"
    }
   ],
   "source": [
    "news_df['Article']"
   ]
  },
  {
   "cell_type": "code",
   "execution_count": null,
   "id": "d16b52a3",
   "metadata": {},
   "outputs": [],
   "source": []
  }
 ],
 "metadata": {
  "kernelspec": {
   "display_name": "Python 3",
   "language": "python",
   "name": "python3"
  },
  "language_info": {
   "codemirror_mode": {
    "name": "ipython",
    "version": 3
   },
   "file_extension": ".py",
   "mimetype": "text/x-python",
   "name": "python",
   "nbconvert_exporter": "python",
   "pygments_lexer": "ipython3",
   "version": "3.8.8"
  }
 },
 "nbformat": 4,
 "nbformat_minor": 5
}
