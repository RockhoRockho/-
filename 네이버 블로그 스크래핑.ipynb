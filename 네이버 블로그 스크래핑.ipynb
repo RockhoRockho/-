{
 "cells": [
  {
   "cell_type": "markdown",
   "id": "c5095542",
   "metadata": {},
   "source": [
    "# 네이버 블로그 스크래핑"
   ]
  },
  {
   "cell_type": "code",
   "execution_count": 27,
   "id": "e5501034",
   "metadata": {},
   "outputs": [],
   "source": [
    "from bs4 import BeautifulSoup\n",
    "import urllib.request\n",
    "from urllib.parse import quote\n",
    "import pandas as pd\n",
    "\n",
    "def get_posts(query):\n",
    "    \n",
    "    url_query = quote(query)\n",
    "    url = 'https://search.naver.com/search.naver?where=blog&sm=tab_jum&query=' + url_query\n",
    "    post_df = pd.DataFrame(columns=('Title', 'Date', 'Blogger', 'Blog URL', 'Post URL', 'Post'))\n",
    "\n",
    "    search_url = urllib.request.urlopen(url).read()\n",
    "    soup = BeautifulSoup(search_url, 'html.parser')\n",
    "    posts = soup.find_all('li', {'class':'bx'})\n",
    "    idx = 0\n",
    "\n",
    "    for post in posts:\n",
    "        title = post.find('a', {'class':'api_txt_lines total_tit'})['text()']\n",
    "        date = post.find('span', {'class':'sub_time sub_txt'}).get_text()\n",
    "        blogger = post.find('a', {'class':'sub_txt sub_name'}).get_text()\n",
    "        blog_url = post.find('a', {'class':'sub_txt sub_name'}).get('href')\n",
    "        post_url = post.find_all('a', {'class':'api_txt_lines total_tit'}).get('href')\n",
    "\n",
    "        post_link = urllib.request.urlopen(post_url).read()\n",
    "        post_html = BeautifulSoup(post_url, 'html.parser')\n",
    "        for main_frame in post_heml.select('iframe', {'id#mainFrame'}):\n",
    "            frame_url = 'https://blog.naver.com/' + main_frame.get('src')\n",
    "            post_text = urllib.request.urlopen(frame_url).read()\n",
    "            post_html = BeautifulSoup(post_text, 'html.parser')\n",
    "\n",
    "            for post_content in post_html.find_all('div', {'class':'se-main-container'}):\n",
    "                post_content_text = post_content.get_text()\n",
    "\n",
    "            post_df.loc[idx] = [Title, date, blogger, blog_url, post_url, post_content_text]\n",
    "            idx += 1\n",
    "            print('#', end='')\n",
    "                           \n",
    "    return post_df       "
   ]
  },
  {
   "cell_type": "code",
   "execution_count": 28,
   "id": "7efe626b",
   "metadata": {},
   "outputs": [
    {
     "name": "stdout",
     "output_type": "stream",
     "text": [
      "검색 질의: 인공진으\n"
     ]
    },
    {
     "ename": "TypeError",
     "evalue": "'NoneType' object is not subscriptable",
     "output_type": "error",
     "traceback": [
      "\u001b[1;31m---------------------------------------------------------------------------\u001b[0m",
      "\u001b[1;31mTypeError\u001b[0m                                 Traceback (most recent call last)",
      "\u001b[1;32m<ipython-input-28-74baf2d99352>\u001b[0m in \u001b[0;36m<module>\u001b[1;34m\u001b[0m\n\u001b[0;32m      1\u001b[0m \u001b[0mquery\u001b[0m \u001b[1;33m=\u001b[0m \u001b[0minput\u001b[0m\u001b[1;33m(\u001b[0m\u001b[1;34m'검색 질의: '\u001b[0m\u001b[1;33m)\u001b[0m\u001b[1;33m\u001b[0m\u001b[1;33m\u001b[0m\u001b[0m\n\u001b[1;32m----> 2\u001b[1;33m \u001b[0mpost_df\u001b[0m \u001b[1;33m=\u001b[0m \u001b[0mget_posts\u001b[0m\u001b[1;33m(\u001b[0m\u001b[0mquery\u001b[0m\u001b[1;33m)\u001b[0m\u001b[1;33m\u001b[0m\u001b[1;33m\u001b[0m\u001b[0m\n\u001b[0m\u001b[0;32m      3\u001b[0m \u001b[0mprint\u001b[0m\u001b[1;33m(\u001b[0m\u001b[1;34m'Done'\u001b[0m\u001b[1;33m)\u001b[0m\u001b[1;33m\u001b[0m\u001b[1;33m\u001b[0m\u001b[0m\n",
      "\u001b[1;32m<ipython-input-27-c1a061ea4eb0>\u001b[0m in \u001b[0;36mget_posts\u001b[1;34m(query)\u001b[0m\n\u001b[0;32m     16\u001b[0m \u001b[1;33m\u001b[0m\u001b[0m\n\u001b[0;32m     17\u001b[0m     \u001b[1;32mfor\u001b[0m \u001b[0mpost\u001b[0m \u001b[1;32min\u001b[0m \u001b[0mposts\u001b[0m\u001b[1;33m:\u001b[0m\u001b[1;33m\u001b[0m\u001b[1;33m\u001b[0m\u001b[0m\n\u001b[1;32m---> 18\u001b[1;33m         \u001b[0mtitle\u001b[0m \u001b[1;33m=\u001b[0m \u001b[0mpost\u001b[0m\u001b[1;33m.\u001b[0m\u001b[0mfind\u001b[0m\u001b[1;33m(\u001b[0m\u001b[1;34m'a'\u001b[0m\u001b[1;33m,\u001b[0m \u001b[1;33m{\u001b[0m\u001b[1;34m'class'\u001b[0m\u001b[1;33m:\u001b[0m\u001b[1;34m'api_txt_lines total_tit'\u001b[0m\u001b[1;33m}\u001b[0m\u001b[1;33m)\u001b[0m\u001b[1;33m[\u001b[0m\u001b[1;34m'text()'\u001b[0m\u001b[1;33m]\u001b[0m\u001b[1;33m\u001b[0m\u001b[1;33m\u001b[0m\u001b[0m\n\u001b[0m\u001b[0;32m     19\u001b[0m         \u001b[0mdate\u001b[0m \u001b[1;33m=\u001b[0m \u001b[0mpost\u001b[0m\u001b[1;33m.\u001b[0m\u001b[0mfind\u001b[0m\u001b[1;33m(\u001b[0m\u001b[1;34m'span'\u001b[0m\u001b[1;33m,\u001b[0m \u001b[1;33m{\u001b[0m\u001b[1;34m'class'\u001b[0m\u001b[1;33m:\u001b[0m\u001b[1;34m'sub_time sub_txt'\u001b[0m\u001b[1;33m}\u001b[0m\u001b[1;33m)\u001b[0m\u001b[1;33m.\u001b[0m\u001b[0mget_text\u001b[0m\u001b[1;33m(\u001b[0m\u001b[1;33m)\u001b[0m\u001b[1;33m\u001b[0m\u001b[1;33m\u001b[0m\u001b[0m\n\u001b[0;32m     20\u001b[0m         \u001b[0mblogger\u001b[0m \u001b[1;33m=\u001b[0m \u001b[0mpost\u001b[0m\u001b[1;33m.\u001b[0m\u001b[0mfind\u001b[0m\u001b[1;33m(\u001b[0m\u001b[1;34m'a'\u001b[0m\u001b[1;33m,\u001b[0m \u001b[1;33m{\u001b[0m\u001b[1;34m'class'\u001b[0m\u001b[1;33m:\u001b[0m\u001b[1;34m'sub_txt sub_name'\u001b[0m\u001b[1;33m}\u001b[0m\u001b[1;33m)\u001b[0m\u001b[1;33m.\u001b[0m\u001b[0mget_text\u001b[0m\u001b[1;33m(\u001b[0m\u001b[1;33m)\u001b[0m\u001b[1;33m\u001b[0m\u001b[1;33m\u001b[0m\u001b[0m\n",
      "\u001b[1;31mTypeError\u001b[0m: 'NoneType' object is not subscriptable"
     ]
    }
   ],
   "source": [
    "query = input('검색 질의: ')\n",
    "post_df = get_posts(query)\n",
    "print('Done')"
   ]
  },
  {
   "cell_type": "code",
   "execution_count": 9,
   "id": "9dae7700",
   "metadata": {},
   "outputs": [
    {
     "ename": "NameError",
     "evalue": "name 'post_df' is not defined",
     "output_type": "error",
     "traceback": [
      "\u001b[1;31m---------------------------------------------------------------------------\u001b[0m",
      "\u001b[1;31mNameError\u001b[0m                                 Traceback (most recent call last)",
      "\u001b[1;32m<ipython-input-9-5a8646420369>\u001b[0m in \u001b[0;36m<module>\u001b[1;34m\u001b[0m\n\u001b[1;32m----> 1\u001b[1;33m \u001b[0mpost_df\u001b[0m\u001b[1;33m\u001b[0m\u001b[1;33m\u001b[0m\u001b[0m\n\u001b[0m",
      "\u001b[1;31mNameError\u001b[0m: name 'post_df' is not defined"
     ]
    }
   ],
   "source": [
    "post_df"
   ]
  },
  {
   "cell_type": "code",
   "execution_count": null,
   "id": "6c82a69f",
   "metadata": {},
   "outputs": [],
   "source": []
  }
 ],
 "metadata": {
  "kernelspec": {
   "display_name": "Python 3",
   "language": "python",
   "name": "python3"
  },
  "language_info": {
   "codemirror_mode": {
    "name": "ipython",
    "version": 3
   },
   "file_extension": ".py",
   "mimetype": "text/x-python",
   "name": "python",
   "nbconvert_exporter": "python",
   "pygments_lexer": "ipython3",
   "version": "3.8.8"
  }
 },
 "nbformat": 4,
 "nbformat_minor": 5
}
